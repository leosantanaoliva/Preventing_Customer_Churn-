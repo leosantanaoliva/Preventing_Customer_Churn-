{
 "cells": [
  {
   "cell_type": "code",
   "execution_count": null,
   "metadata": {},
   "outputs": [],
   "source": [
    "import os\n",
    "\n",
    "# Set up your Kaggle API key\n",
    "os.environ[\"KAGGLE_USERNAME\"] = \"username\"\n",
    "os.environ[\"KAGGLE_KEY\"]= \"key\"\n",
    "\n",
    "# Download the dataset using the Kaggle API\n",
    "!kaggle datasets download -d blastchar/telco-customer-churn\n",
    "\n",
    "# unzip the downloaded file\n",
    "!unzip telco-customer-churn.zip -d telco-customer-churn"
   ]
  },
  {
   "cell_type": "code",
   "execution_count": null,
   "metadata": {},
   "outputs": [],
   "source": [
    "import pandas as pd\n",
    "\n",
    "# Load the dataset\n",
    "file_path = 'your_path'\n",
    "df = pd.read_csv(file_path)\n",
    "\n",
    "# Display the first few rows of the dataset\n",
    "df.head()"
   ]
  },
  {
   "cell_type": "code",
   "execution_count": null,
   "metadata": {},
   "outputs": [],
   "source": []
  }
 ],
 "metadata": {
  "kernelspec": {
   "display_name": "Python 3",
   "language": "python",
   "name": "python3"
  },
  "language_info": {
   "name": "python",
   "version": "3.9.6"
  }
 },
 "nbformat": 4,
 "nbformat_minor": 2
}
